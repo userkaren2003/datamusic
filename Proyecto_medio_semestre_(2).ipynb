{
  "nbformat": 4,
  "nbformat_minor": 0,
  "metadata": {
    "colab": {
      "provenance": [],
      "toc_visible": true,
      "include_colab_link": true
    },
    "kernelspec": {
      "name": "python3",
      "display_name": "Python 3"
    },
    "language_info": {
      "name": "python"
    }
  },
  "cells": [
    {
      "cell_type": "markdown",
      "metadata": {
        "id": "view-in-github",
        "colab_type": "text"
      },
      "source": [
        "<a href=\"https://colab.research.google.com/github/userkaren2003/datamusic/blob/main/Proyecto_medio_semestre_(2).ipynb\" target=\"_parent\"><img src=\"https://colab.research.google.com/assets/colab-badge.svg\" alt=\"Open In Colab\"/></a>"
      ]
    },
    {
      "cell_type": "code",
      "source": [
        "Nombre = \"\\\"Karen Martinez\\\"\" #@param {type:\"string\"}\n",
        "Nombre = \"\\\"Dominic Alejandra Guerra Montalvo\\\"\" #@param {type:\"string\"}\n",
        "Clase = \"ADM-3080\" #@param {type:\"string\"}\n",
        "NRC = \"4068\" #@param {type:\"string\"}\n",
        "Fecha = \"2023-11-20\"#@param {type:\"date\"}"
      ],
      "metadata": {
        "cellView": "form",
        "id": "pEBJ8Vut-7rN"
      },
      "execution_count": 1,
      "outputs": []
    },
    {
      "cell_type": "markdown",
      "source": [
        "# 1. Introducción"
      ],
      "metadata": {
        "id": "1lJcd4YgkiuN"
      }
    },
    {
      "cell_type": "markdown",
      "source": [
        "### a. Descripción del proyecto"
      ],
      "metadata": {
        "id": "xJNQfFIPlzQB"
      }
    },
    {
      "cell_type": "markdown",
      "source": [
        "El proyecto de medio semestre se enfoca en la comparación de las preferencias musicales entre las ciudades de Springfield y Shelbyville, permitiéndonos validar hipótesis y extraer conclusiones significativas a partir de la información recopilada. Para ello, utilizamos los datos proporcionados por Y.Music y el análisis de datos aplicando los conocimientos adquiridos en el curso, así como utilizar la biblioteca principal para el procesamiento de datos, Pandas."
      ],
      "metadata": {
        "id": "VeT6vtQoZ7-U"
      }
    },
    {
      "cell_type": "markdown",
      "source": [
        "**Hipótesis a probar :**\n",
        "\n",
        "1. La actividad de los usuarios difiere según el día de la semana y dependiendo de la ciudad.\n",
        "2. Los lunes por la mañana, los habitantes de Springfield y Shelbyville escuchan diferentes géneros. Lo\n",
        "mismo ocurre con los viernes por la noche.\n",
        "3. Los oyentes de Springfield y Shelbyville tienen distintas preferencias. En Springfield prefieren el pop\n",
        "mientras que en Shelbyville hay más aficionados al rap.\n"
      ],
      "metadata": {
        "id": "7WW2un7DuaMz"
      }
    },
    {
      "cell_type": "markdown",
      "source": [
        "\n",
        "\n",
        "---\n",
        "\n"
      ],
      "metadata": {
        "id": "FYz8pm7y0aRk"
      }
    },
    {
      "cell_type": "markdown",
      "source": [
        "# 2. Descripción de los datos"
      ],
      "metadata": {
        "id": "W2yA4_CGknz-"
      }
    },
    {
      "cell_type": "markdown",
      "source": [
        "`userID` — identificador del usuario\n",
        "\n",
        "`Track` — título de la pista\n",
        "\n",
        "`artist` — nombre del artista\n",
        "\n",
        "`genre` — género\n",
        "\n",
        "`City` — ciudad del usuario (Shelbyville y Springfield)\n",
        "\n",
        "`time` — el periodo de tiempo exacto en que se reprodujo la pista\n",
        "\n",
        "`Day` — día de la semana"
      ],
      "metadata": {
        "id": "VnEzVn6-_zw_"
      }
    },
    {
      "cell_type": "markdown",
      "source": [
        "### a. Librearías utilizadas"
      ],
      "metadata": {
        "id": "smvyVfaxljRK"
      }
    },
    {
      "cell_type": "markdown",
      "source": [
        "`Pandas`: Nos permitirá cargar, limpiar, filtrar y realizar operaciones en la base de datos.\n",
        "\n",
        "`NumPy`: Esta libreria nos ayudará a realizar cálculos numéricos y operaciones matemáticas con los datos.\n",
        "\n",
        "`Missingno`: Nos permite visualizar patrones de valores faltantes en los datos y determinar la cantidad y ubicación de los valores faltantes en las columnas.Esto nos ayudara a saber cómo manejar los valores faltantes, como imputarlos o eliminarlos."
      ],
      "metadata": {
        "id": "SscfJA-4YQR4"
      }
    },
    {
      "cell_type": "code",
      "execution_count": 2,
      "metadata": {
        "id": "lkKOph2bZz0S"
      },
      "outputs": [],
      "source": [
        "# Importar librerias\n",
        "import pandas as pd\n",
        "import numpy as np\n",
        "import missingno as msno"
      ]
    },
    {
      "cell_type": "markdown",
      "source": [
        "### b. Datos"
      ],
      "metadata": {
        "id": "wm0TjPe2loPA"
      }
    },
    {
      "cell_type": "code",
      "source": [
        "from google.colab import drive\n",
        "drive.mount('/content/drive')"
      ],
      "metadata": {
        "colab": {
          "base_uri": "https://localhost:8080/"
        },
        "id": "bm33xfNVXxAd",
        "outputId": "4cfeebda-f827-4e52-d20f-6dfd77d28315"
      },
      "execution_count": 3,
      "outputs": [
        {
          "output_type": "stream",
          "name": "stdout",
          "text": [
            "Mounted at /content/drive\n"
          ]
        }
      ]
    },
    {
      "cell_type": "code",
      "source": [
        "# Importar datos\n",
        "data = pd.read_csv('/content/drive/MyDrive/Colab Notebooks/music_project_en.csv')"
      ],
      "metadata": {
        "id": "RRaIbfJfkF-T"
      },
      "execution_count": 4,
      "outputs": []
    },
    {
      "cell_type": "markdown",
      "source": [
        "### c. Exploración de datos"
      ],
      "metadata": {
        "id": "dgwePpJnl8rz"
      }
    },
    {
      "cell_type": "code",
      "source": [
        "# Verificar cuántas filas y columnas tiene nuestra base de datos\n",
        "data.info()\n",
        "data.shape"
      ],
      "metadata": {
        "colab": {
          "base_uri": "https://localhost:8080/"
        },
        "id": "ZGf_FKCel75c",
        "outputId": "d5d6906e-6b74-4386-b8e3-035033394af0"
      },
      "execution_count": 5,
      "outputs": [
        {
          "output_type": "stream",
          "name": "stdout",
          "text": [
            "<class 'pandas.core.frame.DataFrame'>\n",
            "RangeIndex: 65079 entries, 0 to 65078\n",
            "Data columns (total 7 columns):\n",
            " #   Column    Non-Null Count  Dtype \n",
            "---  ------    --------------  ----- \n",
            " 0     userID  65079 non-null  object\n",
            " 1   Track     63736 non-null  object\n",
            " 2   artist    57512 non-null  object\n",
            " 3   genre     63881 non-null  object\n",
            " 4     City    65079 non-null  object\n",
            " 5   time      65079 non-null  object\n",
            " 6   Day       65079 non-null  object\n",
            "dtypes: object(7)\n",
            "memory usage: 3.5+ MB\n"
          ]
        },
        {
          "output_type": "execute_result",
          "data": {
            "text/plain": [
              "(65079, 7)"
            ]
          },
          "metadata": {},
          "execution_count": 5
        }
      ]
    },
    {
      "cell_type": "markdown",
      "source": [
        "### d. Primeros y últimos datos"
      ],
      "metadata": {
        "id": "dl8LXBXimzym"
      }
    },
    {
      "cell_type": "code",
      "source": [
        "# Primeros datos\n",
        "data.head()"
      ],
      "metadata": {
        "colab": {
          "base_uri": "https://localhost:8080/",
          "height": 206
        },
        "id": "JHlFZZBbm1sO",
        "outputId": "1faf540e-ffbf-4153-c1a3-5b1e2af19917"
      },
      "execution_count": 6,
      "outputs": [
        {
          "output_type": "execute_result",
          "data": {
            "text/plain": [
              "     userID                        Track            artist  genre  \\\n",
              "0  FFB692EC            Kamigata To Boots  The Mass Missile   rock   \n",
              "1  55204538  Delayed Because of Accident  Andreas Rönnberg   rock   \n",
              "2    20EC38            Funiculì funiculà       Mario Lanza    pop   \n",
              "3  A3DD03C9        Dragons in the Sunset        Fire + Ice   folk   \n",
              "4  E2DC1FAE                  Soul People        Space Echo  dance   \n",
              "\n",
              "        City        time        Day  \n",
              "0  Shelbyville  20:28:33  Wednesday  \n",
              "1  Springfield  14:07:09     Friday  \n",
              "2  Shelbyville  20:58:07  Wednesday  \n",
              "3  Shelbyville  08:37:09     Monday  \n",
              "4  Springfield  08:34:34     Monday  "
            ],
            "text/html": [
              "\n",
              "  <div id=\"df-9756c217-06bc-4bc4-ab14-e27370b2e92a\" class=\"colab-df-container\">\n",
              "    <div>\n",
              "<style scoped>\n",
              "    .dataframe tbody tr th:only-of-type {\n",
              "        vertical-align: middle;\n",
              "    }\n",
              "\n",
              "    .dataframe tbody tr th {\n",
              "        vertical-align: top;\n",
              "    }\n",
              "\n",
              "    .dataframe thead th {\n",
              "        text-align: right;\n",
              "    }\n",
              "</style>\n",
              "<table border=\"1\" class=\"dataframe\">\n",
              "  <thead>\n",
              "    <tr style=\"text-align: right;\">\n",
              "      <th></th>\n",
              "      <th>userID</th>\n",
              "      <th>Track</th>\n",
              "      <th>artist</th>\n",
              "      <th>genre</th>\n",
              "      <th>City</th>\n",
              "      <th>time</th>\n",
              "      <th>Day</th>\n",
              "    </tr>\n",
              "  </thead>\n",
              "  <tbody>\n",
              "    <tr>\n",
              "      <th>0</th>\n",
              "      <td>FFB692EC</td>\n",
              "      <td>Kamigata To Boots</td>\n",
              "      <td>The Mass Missile</td>\n",
              "      <td>rock</td>\n",
              "      <td>Shelbyville</td>\n",
              "      <td>20:28:33</td>\n",
              "      <td>Wednesday</td>\n",
              "    </tr>\n",
              "    <tr>\n",
              "      <th>1</th>\n",
              "      <td>55204538</td>\n",
              "      <td>Delayed Because of Accident</td>\n",
              "      <td>Andreas Rönnberg</td>\n",
              "      <td>rock</td>\n",
              "      <td>Springfield</td>\n",
              "      <td>14:07:09</td>\n",
              "      <td>Friday</td>\n",
              "    </tr>\n",
              "    <tr>\n",
              "      <th>2</th>\n",
              "      <td>20EC38</td>\n",
              "      <td>Funiculì funiculà</td>\n",
              "      <td>Mario Lanza</td>\n",
              "      <td>pop</td>\n",
              "      <td>Shelbyville</td>\n",
              "      <td>20:58:07</td>\n",
              "      <td>Wednesday</td>\n",
              "    </tr>\n",
              "    <tr>\n",
              "      <th>3</th>\n",
              "      <td>A3DD03C9</td>\n",
              "      <td>Dragons in the Sunset</td>\n",
              "      <td>Fire + Ice</td>\n",
              "      <td>folk</td>\n",
              "      <td>Shelbyville</td>\n",
              "      <td>08:37:09</td>\n",
              "      <td>Monday</td>\n",
              "    </tr>\n",
              "    <tr>\n",
              "      <th>4</th>\n",
              "      <td>E2DC1FAE</td>\n",
              "      <td>Soul People</td>\n",
              "      <td>Space Echo</td>\n",
              "      <td>dance</td>\n",
              "      <td>Springfield</td>\n",
              "      <td>08:34:34</td>\n",
              "      <td>Monday</td>\n",
              "    </tr>\n",
              "  </tbody>\n",
              "</table>\n",
              "</div>\n",
              "    <div class=\"colab-df-buttons\">\n",
              "\n",
              "  <div class=\"colab-df-container\">\n",
              "    <button class=\"colab-df-convert\" onclick=\"convertToInteractive('df-9756c217-06bc-4bc4-ab14-e27370b2e92a')\"\n",
              "            title=\"Convert this dataframe to an interactive table.\"\n",
              "            style=\"display:none;\">\n",
              "\n",
              "  <svg xmlns=\"http://www.w3.org/2000/svg\" height=\"24px\" viewBox=\"0 -960 960 960\">\n",
              "    <path d=\"M120-120v-720h720v720H120Zm60-500h600v-160H180v160Zm220 220h160v-160H400v160Zm0 220h160v-160H400v160ZM180-400h160v-160H180v160Zm440 0h160v-160H620v160ZM180-180h160v-160H180v160Zm440 0h160v-160H620v160Z\"/>\n",
              "  </svg>\n",
              "    </button>\n",
              "\n",
              "  <style>\n",
              "    .colab-df-container {\n",
              "      display:flex;\n",
              "      gap: 12px;\n",
              "    }\n",
              "\n",
              "    .colab-df-convert {\n",
              "      background-color: #E8F0FE;\n",
              "      border: none;\n",
              "      border-radius: 50%;\n",
              "      cursor: pointer;\n",
              "      display: none;\n",
              "      fill: #1967D2;\n",
              "      height: 32px;\n",
              "      padding: 0 0 0 0;\n",
              "      width: 32px;\n",
              "    }\n",
              "\n",
              "    .colab-df-convert:hover {\n",
              "      background-color: #E2EBFA;\n",
              "      box-shadow: 0px 1px 2px rgba(60, 64, 67, 0.3), 0px 1px 3px 1px rgba(60, 64, 67, 0.15);\n",
              "      fill: #174EA6;\n",
              "    }\n",
              "\n",
              "    .colab-df-buttons div {\n",
              "      margin-bottom: 4px;\n",
              "    }\n",
              "\n",
              "    [theme=dark] .colab-df-convert {\n",
              "      background-color: #3B4455;\n",
              "      fill: #D2E3FC;\n",
              "    }\n",
              "\n",
              "    [theme=dark] .colab-df-convert:hover {\n",
              "      background-color: #434B5C;\n",
              "      box-shadow: 0px 1px 3px 1px rgba(0, 0, 0, 0.15);\n",
              "      filter: drop-shadow(0px 1px 2px rgba(0, 0, 0, 0.3));\n",
              "      fill: #FFFFFF;\n",
              "    }\n",
              "  </style>\n",
              "\n",
              "    <script>\n",
              "      const buttonEl =\n",
              "        document.querySelector('#df-9756c217-06bc-4bc4-ab14-e27370b2e92a button.colab-df-convert');\n",
              "      buttonEl.style.display =\n",
              "        google.colab.kernel.accessAllowed ? 'block' : 'none';\n",
              "\n",
              "      async function convertToInteractive(key) {\n",
              "        const element = document.querySelector('#df-9756c217-06bc-4bc4-ab14-e27370b2e92a');\n",
              "        const dataTable =\n",
              "          await google.colab.kernel.invokeFunction('convertToInteractive',\n",
              "                                                    [key], {});\n",
              "        if (!dataTable) return;\n",
              "\n",
              "        const docLinkHtml = 'Like what you see? Visit the ' +\n",
              "          '<a target=\"_blank\" href=https://colab.research.google.com/notebooks/data_table.ipynb>data table notebook</a>'\n",
              "          + ' to learn more about interactive tables.';\n",
              "        element.innerHTML = '';\n",
              "        dataTable['output_type'] = 'display_data';\n",
              "        await google.colab.output.renderOutput(dataTable, element);\n",
              "        const docLink = document.createElement('div');\n",
              "        docLink.innerHTML = docLinkHtml;\n",
              "        element.appendChild(docLink);\n",
              "      }\n",
              "    </script>\n",
              "  </div>\n",
              "\n",
              "\n",
              "<div id=\"df-44efcff0-5d87-45c4-9375-7667aca5c557\">\n",
              "  <button class=\"colab-df-quickchart\" onclick=\"quickchart('df-44efcff0-5d87-45c4-9375-7667aca5c557')\"\n",
              "            title=\"Suggest charts\"\n",
              "            style=\"display:none;\">\n",
              "\n",
              "<svg xmlns=\"http://www.w3.org/2000/svg\" height=\"24px\"viewBox=\"0 0 24 24\"\n",
              "     width=\"24px\">\n",
              "    <g>\n",
              "        <path d=\"M19 3H5c-1.1 0-2 .9-2 2v14c0 1.1.9 2 2 2h14c1.1 0 2-.9 2-2V5c0-1.1-.9-2-2-2zM9 17H7v-7h2v7zm4 0h-2V7h2v10zm4 0h-2v-4h2v4z\"/>\n",
              "    </g>\n",
              "</svg>\n",
              "  </button>\n",
              "\n",
              "<style>\n",
              "  .colab-df-quickchart {\n",
              "      --bg-color: #E8F0FE;\n",
              "      --fill-color: #1967D2;\n",
              "      --hover-bg-color: #E2EBFA;\n",
              "      --hover-fill-color: #174EA6;\n",
              "      --disabled-fill-color: #AAA;\n",
              "      --disabled-bg-color: #DDD;\n",
              "  }\n",
              "\n",
              "  [theme=dark] .colab-df-quickchart {\n",
              "      --bg-color: #3B4455;\n",
              "      --fill-color: #D2E3FC;\n",
              "      --hover-bg-color: #434B5C;\n",
              "      --hover-fill-color: #FFFFFF;\n",
              "      --disabled-bg-color: #3B4455;\n",
              "      --disabled-fill-color: #666;\n",
              "  }\n",
              "\n",
              "  .colab-df-quickchart {\n",
              "    background-color: var(--bg-color);\n",
              "    border: none;\n",
              "    border-radius: 50%;\n",
              "    cursor: pointer;\n",
              "    display: none;\n",
              "    fill: var(--fill-color);\n",
              "    height: 32px;\n",
              "    padding: 0;\n",
              "    width: 32px;\n",
              "  }\n",
              "\n",
              "  .colab-df-quickchart:hover {\n",
              "    background-color: var(--hover-bg-color);\n",
              "    box-shadow: 0 1px 2px rgba(60, 64, 67, 0.3), 0 1px 3px 1px rgba(60, 64, 67, 0.15);\n",
              "    fill: var(--button-hover-fill-color);\n",
              "  }\n",
              "\n",
              "  .colab-df-quickchart-complete:disabled,\n",
              "  .colab-df-quickchart-complete:disabled:hover {\n",
              "    background-color: var(--disabled-bg-color);\n",
              "    fill: var(--disabled-fill-color);\n",
              "    box-shadow: none;\n",
              "  }\n",
              "\n",
              "  .colab-df-spinner {\n",
              "    border: 2px solid var(--fill-color);\n",
              "    border-color: transparent;\n",
              "    border-bottom-color: var(--fill-color);\n",
              "    animation:\n",
              "      spin 1s steps(1) infinite;\n",
              "  }\n",
              "\n",
              "  @keyframes spin {\n",
              "    0% {\n",
              "      border-color: transparent;\n",
              "      border-bottom-color: var(--fill-color);\n",
              "      border-left-color: var(--fill-color);\n",
              "    }\n",
              "    20% {\n",
              "      border-color: transparent;\n",
              "      border-left-color: var(--fill-color);\n",
              "      border-top-color: var(--fill-color);\n",
              "    }\n",
              "    30% {\n",
              "      border-color: transparent;\n",
              "      border-left-color: var(--fill-color);\n",
              "      border-top-color: var(--fill-color);\n",
              "      border-right-color: var(--fill-color);\n",
              "    }\n",
              "    40% {\n",
              "      border-color: transparent;\n",
              "      border-right-color: var(--fill-color);\n",
              "      border-top-color: var(--fill-color);\n",
              "    }\n",
              "    60% {\n",
              "      border-color: transparent;\n",
              "      border-right-color: var(--fill-color);\n",
              "    }\n",
              "    80% {\n",
              "      border-color: transparent;\n",
              "      border-right-color: var(--fill-color);\n",
              "      border-bottom-color: var(--fill-color);\n",
              "    }\n",
              "    90% {\n",
              "      border-color: transparent;\n",
              "      border-bottom-color: var(--fill-color);\n",
              "    }\n",
              "  }\n",
              "</style>\n",
              "\n",
              "  <script>\n",
              "    async function quickchart(key) {\n",
              "      const quickchartButtonEl =\n",
              "        document.querySelector('#' + key + ' button');\n",
              "      quickchartButtonEl.disabled = true;  // To prevent multiple clicks.\n",
              "      quickchartButtonEl.classList.add('colab-df-spinner');\n",
              "      try {\n",
              "        const charts = await google.colab.kernel.invokeFunction(\n",
              "            'suggestCharts', [key], {});\n",
              "      } catch (error) {\n",
              "        console.error('Error during call to suggestCharts:', error);\n",
              "      }\n",
              "      quickchartButtonEl.classList.remove('colab-df-spinner');\n",
              "      quickchartButtonEl.classList.add('colab-df-quickchart-complete');\n",
              "    }\n",
              "    (() => {\n",
              "      let quickchartButtonEl =\n",
              "        document.querySelector('#df-44efcff0-5d87-45c4-9375-7667aca5c557 button');\n",
              "      quickchartButtonEl.style.display =\n",
              "        google.colab.kernel.accessAllowed ? 'block' : 'none';\n",
              "    })();\n",
              "  </script>\n",
              "</div>\n",
              "    </div>\n",
              "  </div>\n"
            ]
          },
          "metadata": {},
          "execution_count": 6
        }
      ]
    },
    {
      "cell_type": "code",
      "source": [
        "# Ultimos datos\n",
        "data.tail()"
      ],
      "metadata": {
        "colab": {
          "base_uri": "https://localhost:8080/",
          "height": 206
        },
        "id": "jTbxa2hxnDHu",
        "outputId": "59eeb448-ab10-4dc9-83c0-6fc7c898e355"
      },
      "execution_count": 7,
      "outputs": [
        {
          "output_type": "execute_result",
          "data": {
            "text/plain": [
              "         userID                              Track         artist       genre  \\\n",
              "65074  729CBB09                            My Name         McLean         rnb   \n",
              "65075  D08D4A55  Maybe One Day (feat. Black Spade)    Blu & Exile         hip   \n",
              "65076  C5E3A0D5                          Jalopiina            NaN  industrial   \n",
              "65077  321D0506                      Freight Train  Chas McDevitt        rock   \n",
              "65078  3A64EF84          Tell Me Sweet Little Lies   Monica Lopez     country   \n",
              "\n",
              "            City        time        Day  \n",
              "65074  Springfield  13:32:28  Wednesday  \n",
              "65075  Shelbyville  10:00:00     Monday  \n",
              "65076  Springfield  20:09:26     Friday  \n",
              "65077  Springfield  21:43:59     Friday  \n",
              "65078  Springfield  21:59:46     Friday  "
            ],
            "text/html": [
              "\n",
              "  <div id=\"df-3b4c8840-1e76-4c23-894c-d40a7136a92d\" class=\"colab-df-container\">\n",
              "    <div>\n",
              "<style scoped>\n",
              "    .dataframe tbody tr th:only-of-type {\n",
              "        vertical-align: middle;\n",
              "    }\n",
              "\n",
              "    .dataframe tbody tr th {\n",
              "        vertical-align: top;\n",
              "    }\n",
              "\n",
              "    .dataframe thead th {\n",
              "        text-align: right;\n",
              "    }\n",
              "</style>\n",
              "<table border=\"1\" class=\"dataframe\">\n",
              "  <thead>\n",
              "    <tr style=\"text-align: right;\">\n",
              "      <th></th>\n",
              "      <th>userID</th>\n",
              "      <th>Track</th>\n",
              "      <th>artist</th>\n",
              "      <th>genre</th>\n",
              "      <th>City</th>\n",
              "      <th>time</th>\n",
              "      <th>Day</th>\n",
              "    </tr>\n",
              "  </thead>\n",
              "  <tbody>\n",
              "    <tr>\n",
              "      <th>65074</th>\n",
              "      <td>729CBB09</td>\n",
              "      <td>My Name</td>\n",
              "      <td>McLean</td>\n",
              "      <td>rnb</td>\n",
              "      <td>Springfield</td>\n",
              "      <td>13:32:28</td>\n",
              "      <td>Wednesday</td>\n",
              "    </tr>\n",
              "    <tr>\n",
              "      <th>65075</th>\n",
              "      <td>D08D4A55</td>\n",
              "      <td>Maybe One Day (feat. Black Spade)</td>\n",
              "      <td>Blu &amp; Exile</td>\n",
              "      <td>hip</td>\n",
              "      <td>Shelbyville</td>\n",
              "      <td>10:00:00</td>\n",
              "      <td>Monday</td>\n",
              "    </tr>\n",
              "    <tr>\n",
              "      <th>65076</th>\n",
              "      <td>C5E3A0D5</td>\n",
              "      <td>Jalopiina</td>\n",
              "      <td>NaN</td>\n",
              "      <td>industrial</td>\n",
              "      <td>Springfield</td>\n",
              "      <td>20:09:26</td>\n",
              "      <td>Friday</td>\n",
              "    </tr>\n",
              "    <tr>\n",
              "      <th>65077</th>\n",
              "      <td>321D0506</td>\n",
              "      <td>Freight Train</td>\n",
              "      <td>Chas McDevitt</td>\n",
              "      <td>rock</td>\n",
              "      <td>Springfield</td>\n",
              "      <td>21:43:59</td>\n",
              "      <td>Friday</td>\n",
              "    </tr>\n",
              "    <tr>\n",
              "      <th>65078</th>\n",
              "      <td>3A64EF84</td>\n",
              "      <td>Tell Me Sweet Little Lies</td>\n",
              "      <td>Monica Lopez</td>\n",
              "      <td>country</td>\n",
              "      <td>Springfield</td>\n",
              "      <td>21:59:46</td>\n",
              "      <td>Friday</td>\n",
              "    </tr>\n",
              "  </tbody>\n",
              "</table>\n",
              "</div>\n",
              "    <div class=\"colab-df-buttons\">\n",
              "\n",
              "  <div class=\"colab-df-container\">\n",
              "    <button class=\"colab-df-convert\" onclick=\"convertToInteractive('df-3b4c8840-1e76-4c23-894c-d40a7136a92d')\"\n",
              "            title=\"Convert this dataframe to an interactive table.\"\n",
              "            style=\"display:none;\">\n",
              "\n",
              "  <svg xmlns=\"http://www.w3.org/2000/svg\" height=\"24px\" viewBox=\"0 -960 960 960\">\n",
              "    <path d=\"M120-120v-720h720v720H120Zm60-500h600v-160H180v160Zm220 220h160v-160H400v160Zm0 220h160v-160H400v160ZM180-400h160v-160H180v160Zm440 0h160v-160H620v160ZM180-180h160v-160H180v160Zm440 0h160v-160H620v160Z\"/>\n",
              "  </svg>\n",
              "    </button>\n",
              "\n",
              "  <style>\n",
              "    .colab-df-container {\n",
              "      display:flex;\n",
              "      gap: 12px;\n",
              "    }\n",
              "\n",
              "    .colab-df-convert {\n",
              "      background-color: #E8F0FE;\n",
              "      border: none;\n",
              "      border-radius: 50%;\n",
              "      cursor: pointer;\n",
              "      display: none;\n",
              "      fill: #1967D2;\n",
              "      height: 32px;\n",
              "      padding: 0 0 0 0;\n",
              "      width: 32px;\n",
              "    }\n",
              "\n",
              "    .colab-df-convert:hover {\n",
              "      background-color: #E2EBFA;\n",
              "      box-shadow: 0px 1px 2px rgba(60, 64, 67, 0.3), 0px 1px 3px 1px rgba(60, 64, 67, 0.15);\n",
              "      fill: #174EA6;\n",
              "    }\n",
              "\n",
              "    .colab-df-buttons div {\n",
              "      margin-bottom: 4px;\n",
              "    }\n",
              "\n",
              "    [theme=dark] .colab-df-convert {\n",
              "      background-color: #3B4455;\n",
              "      fill: #D2E3FC;\n",
              "    }\n",
              "\n",
              "    [theme=dark] .colab-df-convert:hover {\n",
              "      background-color: #434B5C;\n",
              "      box-shadow: 0px 1px 3px 1px rgba(0, 0, 0, 0.15);\n",
              "      filter: drop-shadow(0px 1px 2px rgba(0, 0, 0, 0.3));\n",
              "      fill: #FFFFFF;\n",
              "    }\n",
              "  </style>\n",
              "\n",
              "    <script>\n",
              "      const buttonEl =\n",
              "        document.querySelector('#df-3b4c8840-1e76-4c23-894c-d40a7136a92d button.colab-df-convert');\n",
              "      buttonEl.style.display =\n",
              "        google.colab.kernel.accessAllowed ? 'block' : 'none';\n",
              "\n",
              "      async function convertToInteractive(key) {\n",
              "        const element = document.querySelector('#df-3b4c8840-1e76-4c23-894c-d40a7136a92d');\n",
              "        const dataTable =\n",
              "          await google.colab.kernel.invokeFunction('convertToInteractive',\n",
              "                                                    [key], {});\n",
              "        if (!dataTable) return;\n",
              "\n",
              "        const docLinkHtml = 'Like what you see? Visit the ' +\n",
              "          '<a target=\"_blank\" href=https://colab.research.google.com/notebooks/data_table.ipynb>data table notebook</a>'\n",
              "          + ' to learn more about interactive tables.';\n",
              "        element.innerHTML = '';\n",
              "        dataTable['output_type'] = 'display_data';\n",
              "        await google.colab.output.renderOutput(dataTable, element);\n",
              "        const docLink = document.createElement('div');\n",
              "        docLink.innerHTML = docLinkHtml;\n",
              "        element.appendChild(docLink);\n",
              "      }\n",
              "    </script>\n",
              "  </div>\n",
              "\n",
              "\n",
              "<div id=\"df-a76c37dd-7884-42a2-b90b-54a9ab55ed9a\">\n",
              "  <button class=\"colab-df-quickchart\" onclick=\"quickchart('df-a76c37dd-7884-42a2-b90b-54a9ab55ed9a')\"\n",
              "            title=\"Suggest charts\"\n",
              "            style=\"display:none;\">\n",
              "\n",
              "<svg xmlns=\"http://www.w3.org/2000/svg\" height=\"24px\"viewBox=\"0 0 24 24\"\n",
              "     width=\"24px\">\n",
              "    <g>\n",
              "        <path d=\"M19 3H5c-1.1 0-2 .9-2 2v14c0 1.1.9 2 2 2h14c1.1 0 2-.9 2-2V5c0-1.1-.9-2-2-2zM9 17H7v-7h2v7zm4 0h-2V7h2v10zm4 0h-2v-4h2v4z\"/>\n",
              "    </g>\n",
              "</svg>\n",
              "  </button>\n",
              "\n",
              "<style>\n",
              "  .colab-df-quickchart {\n",
              "      --bg-color: #E8F0FE;\n",
              "      --fill-color: #1967D2;\n",
              "      --hover-bg-color: #E2EBFA;\n",
              "      --hover-fill-color: #174EA6;\n",
              "      --disabled-fill-color: #AAA;\n",
              "      --disabled-bg-color: #DDD;\n",
              "  }\n",
              "\n",
              "  [theme=dark] .colab-df-quickchart {\n",
              "      --bg-color: #3B4455;\n",
              "      --fill-color: #D2E3FC;\n",
              "      --hover-bg-color: #434B5C;\n",
              "      --hover-fill-color: #FFFFFF;\n",
              "      --disabled-bg-color: #3B4455;\n",
              "      --disabled-fill-color: #666;\n",
              "  }\n",
              "\n",
              "  .colab-df-quickchart {\n",
              "    background-color: var(--bg-color);\n",
              "    border: none;\n",
              "    border-radius: 50%;\n",
              "    cursor: pointer;\n",
              "    display: none;\n",
              "    fill: var(--fill-color);\n",
              "    height: 32px;\n",
              "    padding: 0;\n",
              "    width: 32px;\n",
              "  }\n",
              "\n",
              "  .colab-df-quickchart:hover {\n",
              "    background-color: var(--hover-bg-color);\n",
              "    box-shadow: 0 1px 2px rgba(60, 64, 67, 0.3), 0 1px 3px 1px rgba(60, 64, 67, 0.15);\n",
              "    fill: var(--button-hover-fill-color);\n",
              "  }\n",
              "\n",
              "  .colab-df-quickchart-complete:disabled,\n",
              "  .colab-df-quickchart-complete:disabled:hover {\n",
              "    background-color: var(--disabled-bg-color);\n",
              "    fill: var(--disabled-fill-color);\n",
              "    box-shadow: none;\n",
              "  }\n",
              "\n",
              "  .colab-df-spinner {\n",
              "    border: 2px solid var(--fill-color);\n",
              "    border-color: transparent;\n",
              "    border-bottom-color: var(--fill-color);\n",
              "    animation:\n",
              "      spin 1s steps(1) infinite;\n",
              "  }\n",
              "\n",
              "  @keyframes spin {\n",
              "    0% {\n",
              "      border-color: transparent;\n",
              "      border-bottom-color: var(--fill-color);\n",
              "      border-left-color: var(--fill-color);\n",
              "    }\n",
              "    20% {\n",
              "      border-color: transparent;\n",
              "      border-left-color: var(--fill-color);\n",
              "      border-top-color: var(--fill-color);\n",
              "    }\n",
              "    30% {\n",
              "      border-color: transparent;\n",
              "      border-left-color: var(--fill-color);\n",
              "      border-top-color: var(--fill-color);\n",
              "      border-right-color: var(--fill-color);\n",
              "    }\n",
              "    40% {\n",
              "      border-color: transparent;\n",
              "      border-right-color: var(--fill-color);\n",
              "      border-top-color: var(--fill-color);\n",
              "    }\n",
              "    60% {\n",
              "      border-color: transparent;\n",
              "      border-right-color: var(--fill-color);\n",
              "    }\n",
              "    80% {\n",
              "      border-color: transparent;\n",
              "      border-right-color: var(--fill-color);\n",
              "      border-bottom-color: var(--fill-color);\n",
              "    }\n",
              "    90% {\n",
              "      border-color: transparent;\n",
              "      border-bottom-color: var(--fill-color);\n",
              "    }\n",
              "  }\n",
              "</style>\n",
              "\n",
              "  <script>\n",
              "    async function quickchart(key) {\n",
              "      const quickchartButtonEl =\n",
              "        document.querySelector('#' + key + ' button');\n",
              "      quickchartButtonEl.disabled = true;  // To prevent multiple clicks.\n",
              "      quickchartButtonEl.classList.add('colab-df-spinner');\n",
              "      try {\n",
              "        const charts = await google.colab.kernel.invokeFunction(\n",
              "            'suggestCharts', [key], {});\n",
              "      } catch (error) {\n",
              "        console.error('Error during call to suggestCharts:', error);\n",
              "      }\n",
              "      quickchartButtonEl.classList.remove('colab-df-spinner');\n",
              "      quickchartButtonEl.classList.add('colab-df-quickchart-complete');\n",
              "    }\n",
              "    (() => {\n",
              "      let quickchartButtonEl =\n",
              "        document.querySelector('#df-a76c37dd-7884-42a2-b90b-54a9ab55ed9a button');\n",
              "      quickchartButtonEl.style.display =\n",
              "        google.colab.kernel.accessAllowed ? 'block' : 'none';\n",
              "    })();\n",
              "  </script>\n",
              "</div>\n",
              "    </div>\n",
              "  </div>\n"
            ]
          },
          "metadata": {},
          "execution_count": 7
        }
      ]
    },
    {
      "cell_type": "markdown",
      "source": [
        "### e. Tipos de datos"
      ],
      "metadata": {
        "id": "4nnPD5XEnOBu"
      }
    },
    {
      "cell_type": "markdown",
      "source": [
        "Después de este breve análisis consideramos necesario ajustar algunos aspectos de los nombres de las columnas y asi prevenir problemas en la interpretación y el procesamiento de los datos.\n",
        "\n",
        "Debemos corregir la disparidad en la capitalización y los espacios que se observaron en algunos de los nombres de las columnas.\n"
      ],
      "metadata": {
        "id": "YH6hAWIwrct0"
      }
    },
    {
      "cell_type": "markdown",
      "source": [
        "### f. Conclusiones iniciales"
      ],
      "metadata": {
        "id": "tM9sFRRQCi_-"
      }
    },
    {
      "cell_type": "markdown",
      "source": [
        "Nuestra base de datos tiene un total de 65,079 filas y 7 columnas.\n",
        "\n",
        "Los tipos de datos de las columnas son principalmente del tipo object, eso significa que la mayoría de las variables se almacenan como cadenas de texto. Sin embargo, no podemos realizar cálculos numéricos con facilidad si no se convierten algunos de estos datos a tipos numéricos adecuados, por ejemplo, se recomienda que la columna \"time\" se convierta en tipo datetime.\n",
        "\n",
        "Las columnas \"Track,\" \"artist,\" y \"genre\" tienen valores nulos (\"NaN\") ya que tienen menos filas que las otras columnas, estos valores ausentes deben ser tratados para continuar con las pruebas de hipótesis.\n",
        "\n",
        "\n"
      ],
      "metadata": {
        "id": "FZubP0UKCmU3"
      }
    },
    {
      "cell_type": "markdown",
      "source": [
        "\n",
        "\n",
        "---\n",
        "\n"
      ],
      "metadata": {
        "id": "XHcAMW-j0cnm"
      }
    },
    {
      "cell_type": "markdown",
      "source": [
        "# 3. Preprocesamiento de datos"
      ],
      "metadata": {
        "id": "wP4zzpybEtgn"
      }
    },
    {
      "cell_type": "markdown",
      "source": [
        "### a. Cambio de encabezados\n",
        "\n",
        "Se debe corregir los encabezados, ya que algunos títulos incluyen mayúsculas mientras que otros son títulos completamente minúsculos."
      ],
      "metadata": {
        "id": "qIbTdEXoMKS6"
      }
    },
    {
      "cell_type": "code",
      "source": [
        "print(data.columns)"
      ],
      "metadata": {
        "colab": {
          "base_uri": "https://localhost:8080/"
        },
        "id": "oFeyIUsxgzmg",
        "outputId": "e9d10669-2764-4cf5-f13b-85b9747ff75e"
      },
      "execution_count": 8,
      "outputs": [
        {
          "output_type": "stream",
          "name": "stdout",
          "text": [
            "Index(['  userID', 'Track', 'artist', 'genre', '  City  ', 'time', 'Day'], dtype='object')\n"
          ]
        }
      ]
    },
    {
      "cell_type": "code",
      "source": [
        "# Renombrar las columnas\n",
        "data = data.rename(\n",
        "    columns = {\n",
        "        '  userID':'user_id',\n",
        "        'Track':'track',\n",
        "        '  City  ':'city',\n",
        "        'Day':'day'\n",
        "    }\n",
        ")"
      ],
      "metadata": {
        "id": "BPNxiJ2Vg4Hm"
      },
      "execution_count": 9,
      "outputs": []
    },
    {
      "cell_type": "code",
      "source": [
        "print(data.columns)"
      ],
      "metadata": {
        "colab": {
          "base_uri": "https://localhost:8080/"
        },
        "id": "BS491mThg6iQ",
        "outputId": "36f3a1a6-3ba8-447f-e0bd-ea7bf84c8a66"
      },
      "execution_count": 10,
      "outputs": [
        {
          "output_type": "stream",
          "name": "stdout",
          "text": [
            "Index(['user_id', 'track', 'artist', 'genre', 'city', 'time', 'day'], dtype='object')\n"
          ]
        }
      ]
    },
    {
      "cell_type": "markdown",
      "source": [
        "###b. Identificación y transformación de valores ausentes"
      ],
      "metadata": {
        "id": "DjkXU7zuYtf0"
      }
    },
    {
      "cell_type": "markdown",
      "source": [
        "**Gráfico de datos ausentes :**"
      ],
      "metadata": {
        "id": "g_QLhhwis1M9"
      }
    },
    {
      "cell_type": "code",
      "source": [
        "width = 10\n",
        "height = 3\n",
        "\n",
        "msno.matrix(data, figsize=(width, height))"
      ],
      "metadata": {
        "colab": {
          "base_uri": "https://localhost:8080/",
          "height": 384
        },
        "id": "eES5q40Hqrco",
        "outputId": "49382ed7-e12f-4e88-c2af-9b8e1193aa05"
      },
      "execution_count": 11,
      "outputs": [
        {
          "output_type": "execute_result",
          "data": {
            "text/plain": [
              "<Axes: >"
            ]
          },
          "metadata": {},
          "execution_count": 11
        },
        {
          "output_type": "display_data",
          "data": {
            "text/plain": [
              "<Figure size 1000x300 with 2 Axes>"
            ],
            "image/png": "[encoded data removed]"
          },
          "metadata": {}
        }
      ]
    },
    {
      "cell_type": "markdown",
      "source": [
        "Se identificaron valores ausentes en las columnas `track`, `artist`, `genre`"
      ],
      "metadata": {
        "id": "2Y8p-pJek4l9"
      }
    },
    {
      "cell_type": "code",
      "source": [
        "# Correlacion entre las columnas\n",
        "width = 10\n",
        "height = 3\n",
        "\n",
        "msno.heatmap(data, figsize=(width, height))"
      ],
      "metadata": {
        "colab": {
          "base_uri": "https://localhost:8080/",
          "height": 360
        },
        "id": "azm4-m_FxfmX",
        "outputId": "6ef06a58-bff2-4732-e633-49f3154d7d54"
      },
      "execution_count": 12,
      "outputs": [
        {
          "output_type": "execute_result",
          "data": {
            "text/plain": [
              "<Axes: >"
            ]
          },
          "metadata": {},
          "execution_count": 12
        },
        {
          "output_type": "display_data",
          "data": {
            "text/plain": [
              "<Figure size 1000x300 with 2 Axes>"
            ],
            "image/png": "[encoded data removed]"
          },
          "metadata": {}
        }
      ]
    },
    {
      "cell_type": "code",
      "source": [
        "# Cantidad de valores ausentes en numero\n",
        "print(data.isna().sum())\n",
        "print('')\n",
        "print(data.columns[data.isnull().any()])"
      ],
      "metadata": {
        "colab": {
          "base_uri": "https://localhost:8080/"
        },
        "id": "sUj43hr6Yqu8",
        "outputId": "74fa46f2-4875-4761-dc59-0a4cef450cfd"
      },
      "execution_count": 13,
      "outputs": [
        {
          "output_type": "stream",
          "name": "stdout",
          "text": [
            "user_id       0\n",
            "track      1343\n",
            "artist     7567\n",
            "genre      1198\n",
            "city          0\n",
            "time          0\n",
            "day           0\n",
            "dtype: int64\n",
            "\n",
            "Index(['track', 'artist', 'genre'], dtype='object')\n"
          ]
        }
      ]
    },
    {
      "cell_type": "code",
      "source": [
        "# Cantidad de valores ausentes en porcentaje\n",
        "for col in data.columns:\n",
        "\n",
        "    porcentaje_ausente = np.mean(data[col].isnull()) * 100\n",
        "\n",
        "    print(f\"Columna {col}: {porcentaje_ausente:.2f}%\")\n"
      ],
      "metadata": {
        "colab": {
          "base_uri": "https://localhost:8080/"
        },
        "id": "zCznhGjzY9jG",
        "outputId": "b625da83-d9d8-4989-a9d0-9d28a70a5049"
      },
      "execution_count": 14,
      "outputs": [
        {
          "output_type": "stream",
          "name": "stdout",
          "text": [
            "Columna user_id: 0.00%\n",
            "Columna track: 2.06%\n",
            "Columna artist: 11.63%\n",
            "Columna genre: 1.84%\n",
            "Columna city: 0.00%\n",
            "Columna time: 0.00%\n",
            "Columna day: 0.00%\n"
          ]
        }
      ]
    },
    {
      "cell_type": "markdown",
      "source": [
        "**Análisis de valores ausentes:**\n",
        "\n",
        "Existen valores ausentes en las siguientes columnas:\n",
        "\n",
        "`Track` - 1343 o 2.06%\n",
        "\n",
        "`artist` - 7567 o 11.63%\n",
        "\n",
        "`genre` -  1198 o 1.84%\n",
        "\n",
        "Los valores `Track` y `artist` no son significativos para el análisis de las hipótesis, ya que no son necesarios para comprobar las hipótesis y representan un número muy bajo de los datos totales (65,709). Sin embargo, no se deben eliminar, ya que se demuestra una correlación alta entre las variables previamente mencionadas, lo cual puede afectar a los datos no ausentes debido a que la ausencia no es simétrica. La pérdida de estos datos probablemente fue consequencia de errores de registro. En el caso de 'Track', podría ser que algunos usuarios no proporcionaron información sobre el título de la canción al escucharla. Para 'Artist', puede ser que haya usuarios que estén escuchando música de artistas menos conocidos o nuevos, lo que podría llevar a la falta de información sobre el artista. Para 'Genre', los usuarios podrían escuchar música que no está clasificada en un género específico o podría ser información opcional que algunos usuarios no proporcionan.\n",
        "Para solucionar esto, se deben reemplazar los datos ausentes con \"undefined\".\n",
        "\n",
        "\n",
        "--> Aunque la variable `genre` muestra un porcentaje bajo de datos ausentes, es un valor de gran importancia, ya que es necesario para el análisis de las hipótesis que compara los gustos entre las dos ciudades."
      ],
      "metadata": {
        "id": "O60d7Xw_qYOa"
      }
    },
    {
      "cell_type": "markdown",
      "source": [
        "**Completar datos ausentes :**"
      ],
      "metadata": {
        "id": "itH0M3N2yHUk"
      }
    },
    {
      "cell_type": "markdown",
      "source": [
        "Este código recorrerá las columnas especificadas en columns_to_replace y reemplazará los valores ausentes con 'unknown' en el DataFrame original data ."
      ],
      "metadata": {
        "id": "HKxJnau1yeOl"
      }
    },
    {
      "cell_type": "code",
      "source": [
        "# Usar un bucle for y la función fillna\n",
        "columns_remplazar = ['track', 'artist', 'genre']\n",
        "\n",
        "for column in columns_remplazar:\n",
        "    data[column] = data[column].fillna('undefined')"
      ],
      "metadata": {
        "id": "8lfsZzXkpHt6"
      },
      "execution_count": 15,
      "outputs": []
    },
    {
      "cell_type": "code",
      "source": [
        "# Comprobar que ya no hay valores ausentes\n",
        "print(data.isna().sum())"
      ],
      "metadata": {
        "colab": {
          "base_uri": "https://localhost:8080/"
        },
        "id": "YA1fKul6ptfo",
        "outputId": "ec4d21f1-5c11-4854-861a-3203b7689799"
      },
      "execution_count": 16,
      "outputs": [
        {
          "output_type": "stream",
          "name": "stdout",
          "text": [
            "user_id    0\n",
            "track      0\n",
            "artist     0\n",
            "genre      0\n",
            "city       0\n",
            "time       0\n",
            "day        0\n",
            "dtype: int64\n"
          ]
        }
      ]
    },
    {
      "cell_type": "code",
      "source": [
        "print(data.info)"
      ],
      "metadata": {
        "colab": {
          "base_uri": "https://localhost:8080/"
        },
        "id": "bzeIX1BXKg8X",
        "outputId": "e869d931-7b44-47ec-8a47-38d0f0849ee4"
      },
      "execution_count": 17,
      "outputs": [
        {
          "output_type": "stream",
          "name": "stdout",
          "text": [
            "<bound method DataFrame.info of         user_id                              track            artist  \\\n",
            "0      FFB692EC                  Kamigata To Boots  The Mass Missile   \n",
            "1      55204538        Delayed Because of Accident  Andreas Rönnberg   \n",
            "2        20EC38                  Funiculì funiculà       Mario Lanza   \n",
            "3      A3DD03C9              Dragons in the Sunset        Fire + Ice   \n",
            "4      E2DC1FAE                        Soul People        Space Echo   \n",
            "...         ...                                ...               ...   \n",
            "65074  729CBB09                            My Name            McLean   \n",
            "65075  D08D4A55  Maybe One Day (feat. Black Spade)       Blu & Exile   \n",
            "65076  C5E3A0D5                          Jalopiina         undefined   \n",
            "65077  321D0506                      Freight Train     Chas McDevitt   \n",
            "65078  3A64EF84          Tell Me Sweet Little Lies      Monica Lopez   \n",
            "\n",
            "            genre         city      time        day  \n",
            "0            rock  Shelbyville  20:28:33  Wednesday  \n",
            "1            rock  Springfield  14:07:09     Friday  \n",
            "2             pop  Shelbyville  20:58:07  Wednesday  \n",
            "3            folk  Shelbyville  08:37:09     Monday  \n",
            "4           dance  Springfield  08:34:34     Monday  \n",
            "...           ...          ...       ...        ...  \n",
            "65074         rnb  Springfield  13:32:28  Wednesday  \n",
            "65075         hip  Shelbyville  10:00:00     Monday  \n",
            "65076  industrial  Springfield  20:09:26     Friday  \n",
            "65077        rock  Springfield  21:43:59     Friday  \n",
            "65078     country  Springfield  21:59:46     Friday  \n",
            "\n",
            "[65079 rows x 7 columns]>\n"
          ]
        }
      ]
    },
    {
      "cell_type": "markdown",
      "source": [
        "###C. Reemplazo de datos"
      ],
      "metadata": {
        "id": "ZNJRFXzN15vc"
      }
    },
    {
      "cell_type": "markdown",
      "source": [
        "Cambiar la variable 'time' porque no está en el formato datetime"
      ],
      "metadata": {
        "id": "ulx7shd9fJG4"
      }
    },
    {
      "cell_type": "code",
      "source": [
        "# Usar la funcion datetime de pandas\n",
        "data['time'] = pd.to_datetime(data['time'],errors = 'coerce')\n",
        "print(data.dtypes)"
      ],
      "metadata": {
        "id": "vi03zWm0fPuR",
        "colab": {
          "base_uri": "https://localhost:8080/"
        },
        "outputId": "b04fa200-0bd4-436f-857e-3248f2279f7f"
      },
      "execution_count": 18,
      "outputs": [
        {
          "output_type": "stream",
          "name": "stdout",
          "text": [
            "user_id            object\n",
            "track              object\n",
            "artist             object\n",
            "genre              object\n",
            "city               object\n",
            "time       datetime64[ns]\n",
            "day                object\n",
            "dtype: object\n"
          ]
        }
      ]
    },
    {
      "cell_type": "markdown",
      "source": [
        "### d. Eliminación de datos duplicados"
      ],
      "metadata": {
        "id": "8Gm_XHwXqAnG"
      }
    },
    {
      "cell_type": "markdown",
      "source": [
        "Se analizó la presencia de datos duplicados generales."
      ],
      "metadata": {
        "id": "YCC-OOtZO4A_"
      }
    },
    {
      "cell_type": "code",
      "source": [
        "# Encontrar el numero de datos duplicados con la funcion duplicated\n",
        "print(data.duplicated().sum())"
      ],
      "metadata": {
        "colab": {
          "base_uri": "https://localhost:8080/"
        },
        "id": "f5DtVXH9qB2N",
        "outputId": "b8ee3df8-3470-49e4-9fd1-30aa97ea53d1"
      },
      "execution_count": 19,
      "outputs": [
        {
          "output_type": "stream",
          "name": "stdout",
          "text": [
            "3826\n"
          ]
        }
      ]
    },
    {
      "cell_type": "code",
      "source": [
        "# Borrar datos duplicados\n",
        "data = data.drop_duplicates().reset_index(drop=True)"
      ],
      "metadata": {
        "id": "mDRd4n0WqsXn"
      },
      "execution_count": 20,
      "outputs": []
    },
    {
      "cell_type": "code",
      "source": [
        "# Verificar la eliminacion de los datos duplicados\n",
        "print(data.duplicated().sum())"
      ],
      "metadata": {
        "colab": {
          "base_uri": "https://localhost:8080/"
        },
        "id": "o8b6-EFNqwRG",
        "outputId": "09eb055b-1a40-442f-ff5e-9a55e3fb9832"
      },
      "execution_count": 21,
      "outputs": [
        {
          "output_type": "stream",
          "name": "stdout",
          "text": [
            "0\n"
          ]
        }
      ]
    },
    {
      "cell_type": "code",
      "source": [
        "print(data.info)"
      ],
      "metadata": {
        "colab": {
          "base_uri": "https://localhost:8080/"
        },
        "id": "FdmLg4c8Lt_R",
        "outputId": "c7787cce-ca6d-4f12-e885-a6398fddb503"
      },
      "execution_count": 22,
      "outputs": [
        {
          "output_type": "stream",
          "name": "stdout",
          "text": [
            "<bound method DataFrame.info of         user_id                              track            artist  \\\n",
            "0      FFB692EC                  Kamigata To Boots  The Mass Missile   \n",
            "1      55204538        Delayed Because of Accident  Andreas Rönnberg   \n",
            "2        20EC38                  Funiculì funiculà       Mario Lanza   \n",
            "3      A3DD03C9              Dragons in the Sunset        Fire + Ice   \n",
            "4      E2DC1FAE                        Soul People        Space Echo   \n",
            "...         ...                                ...               ...   \n",
            "61248  729CBB09                            My Name            McLean   \n",
            "61249  D08D4A55  Maybe One Day (feat. Black Spade)       Blu & Exile   \n",
            "61250  C5E3A0D5                          Jalopiina         undefined   \n",
            "61251  321D0506                      Freight Train     Chas McDevitt   \n",
            "61252  3A64EF84          Tell Me Sweet Little Lies      Monica Lopez   \n",
            "\n",
            "            genre         city                time        day  \n",
            "0            rock  Shelbyville 2023-11-21 20:28:33  Wednesday  \n",
            "1            rock  Springfield 2023-11-21 14:07:09     Friday  \n",
            "2             pop  Shelbyville 2023-11-21 20:58:07  Wednesday  \n",
            "3            folk  Shelbyville 2023-11-21 08:37:09     Monday  \n",
            "4           dance  Springfield 2023-11-21 08:34:34     Monday  \n",
            "...           ...          ...                 ...        ...  \n",
            "61248         rnb  Springfield 2023-11-21 13:32:28  Wednesday  \n",
            "61249         hip  Shelbyville 2023-11-21 10:00:00     Monday  \n",
            "61250  industrial  Springfield 2023-11-21 20:09:26     Friday  \n",
            "61251        rock  Springfield 2023-11-21 21:43:59     Friday  \n",
            "61252     country  Springfield 2023-11-21 21:59:46     Friday  \n",
            "\n",
            "[61253 rows x 7 columns]>\n"
          ]
        }
      ]
    },
    {
      "cell_type": "markdown",
      "source": [
        "Examinar cuidadosamente los datos para identificar posibles redundancias o errores tipográficos que podrían afectar la interpretación y análisis en la columna `genre`."
      ],
      "metadata": {
        "id": "105YCQtpFRb6"
      }
    },
    {
      "cell_type": "code",
      "source": [
        "# Encontrar los valores unicos de la columna genre\n",
        "print(data['genre'].sort_values().unique())"
      ],
      "metadata": {
        "colab": {
          "base_uri": "https://localhost:8080/"
        },
        "id": "2h2uwm64q3m7",
        "outputId": "0a5b7742-8d3d-420b-c98f-248e3f9f531f"
      },
      "execution_count": 23,
      "outputs": [
        {
          "output_type": "stream",
          "name": "stdout",
          "text": [
            "['acid' 'acoustic' 'action' 'adult' 'africa' 'afrikaans' 'alternative'\n",
            " 'ambient' 'americana' 'animated' 'anime' 'arabesk' 'arabic' 'arena'\n",
            " 'argentinetango' 'art' 'audiobook' 'avantgarde' 'axé' 'baile' 'balkan'\n",
            " 'beats' 'bigroom' 'black' 'bluegrass' 'blues' 'bollywood' 'bossa'\n",
            " 'brazilian' 'breakbeat' 'breaks' 'broadway' 'cantautori' 'cantopop'\n",
            " 'canzone' 'caribbean' 'caucasian' 'celtic' 'chamber' 'children' 'chill'\n",
            " 'chinese' 'choral' 'christian' 'christmas' 'classical' 'classicmetal'\n",
            " 'club' 'colombian' 'comedy' 'conjazz' 'contemporary' 'country' 'cuban'\n",
            " 'dance' 'dancehall' 'dancepop' 'dark' 'death' 'deep' 'deutschrock'\n",
            " 'deutschspr' 'dirty' 'disco' 'dnb' 'documentary' 'downbeat' 'downtempo'\n",
            " 'drum' 'dub' 'dubstep' 'eastern' 'easy' 'electronic' 'electropop' 'emo'\n",
            " 'entehno' 'epicmetal' 'estrada' 'ethnic' 'eurofolk' 'european'\n",
            " 'experimental' 'extrememetal' 'fado' 'film' 'fitness' 'flamenco' 'folk'\n",
            " 'folklore' 'folkmetal' 'folkrock' 'folktronica' 'forró' 'frankreich'\n",
            " 'französisch' 'french' 'funk' 'future' 'gangsta' 'garage' 'german'\n",
            " 'ghazal' 'gitarre' 'glitch' 'gospel' 'gothic' 'grime' 'grunge' 'gypsy'\n",
            " 'handsup' \"hard'n'heavy\" 'hardcore' 'hardstyle' 'hardtechno' 'hip'\n",
            " 'hip-hop' 'hiphop' 'historisch' 'holiday' 'hop' 'horror' 'house' 'idm'\n",
            " 'independent' 'indian' 'indie' 'indipop' 'industrial' 'inspirational'\n",
            " 'instrumental' 'international' 'irish' 'jam' 'japanese' 'jazz' 'jewish'\n",
            " 'jpop' 'jungle' 'k-pop' 'karadeniz' 'karaoke' 'kayokyoku' 'korean'\n",
            " 'laiko' 'latin' 'latino' 'leftfield' 'local' 'lounge' 'loungeelectronic'\n",
            " 'lovers' 'malaysian' 'mandopop' 'marschmusik' 'meditative'\n",
            " 'mediterranean' 'melodic' 'metal' 'metalcore' 'mexican' 'middle'\n",
            " 'minimal' 'miscellaneous' 'modern' 'mood' 'mpb' 'muslim' 'native'\n",
            " 'neoklassik' 'neue' 'new' 'newage' 'newwave' 'nu' 'nujazz' 'numetal'\n",
            " 'oceania' 'old' 'opera' 'orchestral' 'other' 'piano' 'pop'\n",
            " 'popelectronic' 'popeurodance' 'post' 'posthardcore' 'postrock' 'power'\n",
            " 'progmetal' 'progressive' 'psychedelic' 'punjabi' 'punk' 'quebecois'\n",
            " 'ragga' 'ram' 'rancheras' 'rap' 'rave' 'reggae' 'reggaeton' 'regional'\n",
            " 'relax' 'religious' 'retro' 'rhythm' 'rnb' 'rnr' 'rock' 'rockabilly'\n",
            " 'romance' 'roots' 'ruspop' 'rusrap' 'rusrock' 'salsa' 'samba' 'schlager'\n",
            " 'self' 'sertanejo' 'shoegazing' 'showtunes' 'singer' 'ska' 'slow'\n",
            " 'smooth' 'soul' 'soulful' 'sound' 'soundtrack' 'southern' 'specialty'\n",
            " 'speech' 'spiritual' 'sport' 'stonerrock' 'surf' 'swing' 'synthpop'\n",
            " 'sängerportrait' 'tango' 'tanzorchester' 'taraftar' 'tech' 'techno'\n",
            " 'thrash' 'top' 'traditional' 'tradjazz' 'trance' 'tribal' 'trip'\n",
            " 'triphop' 'tropical' 'türk' 'türkçe' 'undefined' 'urban' 'uzbek'\n",
            " 'variété' 'vi' 'videogame' 'vocal' 'western' 'world' 'worldbeat' 'ïîï']\n"
          ]
        }
      ]
    },
    {
      "cell_type": "markdown",
      "source": [
        "Notamos que el género hip hop tiene errores tipográficos o malas entradas, es decir, duplicados implícitos, ya que representan esencialmente la misma categoría, pero debido a diferencias en la entrada, el sistema los trata como diferentes géneros."
      ],
      "metadata": {
        "id": "vIVVTy-OOGq6"
      }
    },
    {
      "cell_type": "code",
      "source": [
        "# Crear una función para corregir los nombres incorrectos\n",
        "\n",
        "def replace_wrong_genres(wrong_genres,correct_genre):\n",
        "    for wrong_value in wrong_genres:\n",
        "        data['genre'] = data['genre'].replace(wrong_value,correct_genre)"
      ],
      "metadata": {
        "id": "PG9jKfJXtR3V"
      },
      "execution_count": 24,
      "outputs": []
    },
    {
      "cell_type": "code",
      "source": [
        "# Definir los nombres de la columna \"genre\" correctos e incorrecto\n",
        "\n",
        "wrong_genres = ['hip', 'hop', 'hip-hop']\n",
        "correct_genre = 'hiphop'\n",
        "\n",
        "replace_wrong_genres(wrong_genres,correct_genre)"
      ],
      "metadata": {
        "id": "VXvqXmHvtVLE"
      },
      "execution_count": 25,
      "outputs": []
    },
    {
      "cell_type": "code",
      "source": [
        "# Verificar la eliminación de los datos duplicados específicos\n",
        "print(data['genre'].sort_values().unique())"
      ],
      "metadata": {
        "colab": {
          "base_uri": "https://localhost:8080/"
        },
        "id": "TA96E0DztvRo",
        "outputId": "1b28eef7-3310-4432-dd01-fd44f91a768e"
      },
      "execution_count": 26,
      "outputs": [
        {
          "output_type": "stream",
          "name": "stdout",
          "text": [
            "['acid' 'acoustic' 'action' 'adult' 'africa' 'afrikaans' 'alternative'\n",
            " 'ambient' 'americana' 'animated' 'anime' 'arabesk' 'arabic' 'arena'\n",
            " 'argentinetango' 'art' 'audiobook' 'avantgarde' 'axé' 'baile' 'balkan'\n",
            " 'beats' 'bigroom' 'black' 'bluegrass' 'blues' 'bollywood' 'bossa'\n",
            " 'brazilian' 'breakbeat' 'breaks' 'broadway' 'cantautori' 'cantopop'\n",
            " 'canzone' 'caribbean' 'caucasian' 'celtic' 'chamber' 'children' 'chill'\n",
            " 'chinese' 'choral' 'christian' 'christmas' 'classical' 'classicmetal'\n",
            " 'club' 'colombian' 'comedy' 'conjazz' 'contemporary' 'country' 'cuban'\n",
            " 'dance' 'dancehall' 'dancepop' 'dark' 'death' 'deep' 'deutschrock'\n",
            " 'deutschspr' 'dirty' 'disco' 'dnb' 'documentary' 'downbeat' 'downtempo'\n",
            " 'drum' 'dub' 'dubstep' 'eastern' 'easy' 'electronic' 'electropop' 'emo'\n",
            " 'entehno' 'epicmetal' 'estrada' 'ethnic' 'eurofolk' 'european'\n",
            " 'experimental' 'extrememetal' 'fado' 'film' 'fitness' 'flamenco' 'folk'\n",
            " 'folklore' 'folkmetal' 'folkrock' 'folktronica' 'forró' 'frankreich'\n",
            " 'französisch' 'french' 'funk' 'future' 'gangsta' 'garage' 'german'\n",
            " 'ghazal' 'gitarre' 'glitch' 'gospel' 'gothic' 'grime' 'grunge' 'gypsy'\n",
            " 'handsup' \"hard'n'heavy\" 'hardcore' 'hardstyle' 'hardtechno' 'hiphop'\n",
            " 'historisch' 'holiday' 'horror' 'house' 'idm' 'independent' 'indian'\n",
            " 'indie' 'indipop' 'industrial' 'inspirational' 'instrumental'\n",
            " 'international' 'irish' 'jam' 'japanese' 'jazz' 'jewish' 'jpop' 'jungle'\n",
            " 'k-pop' 'karadeniz' 'karaoke' 'kayokyoku' 'korean' 'laiko' 'latin'\n",
            " 'latino' 'leftfield' 'local' 'lounge' 'loungeelectronic' 'lovers'\n",
            " 'malaysian' 'mandopop' 'marschmusik' 'meditative' 'mediterranean'\n",
            " 'melodic' 'metal' 'metalcore' 'mexican' 'middle' 'minimal'\n",
            " 'miscellaneous' 'modern' 'mood' 'mpb' 'muslim' 'native' 'neoklassik'\n",
            " 'neue' 'new' 'newage' 'newwave' 'nu' 'nujazz' 'numetal' 'oceania' 'old'\n",
            " 'opera' 'orchestral' 'other' 'piano' 'pop' 'popelectronic' 'popeurodance'\n",
            " 'post' 'posthardcore' 'postrock' 'power' 'progmetal' 'progressive'\n",
            " 'psychedelic' 'punjabi' 'punk' 'quebecois' 'ragga' 'ram' 'rancheras'\n",
            " 'rap' 'rave' 'reggae' 'reggaeton' 'regional' 'relax' 'religious' 'retro'\n",
            " 'rhythm' 'rnb' 'rnr' 'rock' 'rockabilly' 'romance' 'roots' 'ruspop'\n",
            " 'rusrap' 'rusrock' 'salsa' 'samba' 'schlager' 'self' 'sertanejo'\n",
            " 'shoegazing' 'showtunes' 'singer' 'ska' 'slow' 'smooth' 'soul' 'soulful'\n",
            " 'sound' 'soundtrack' 'southern' 'specialty' 'speech' 'spiritual' 'sport'\n",
            " 'stonerrock' 'surf' 'swing' 'synthpop' 'sängerportrait' 'tango'\n",
            " 'tanzorchester' 'taraftar' 'tech' 'techno' 'thrash' 'top' 'traditional'\n",
            " 'tradjazz' 'trance' 'tribal' 'trip' 'triphop' 'tropical' 'türk' 'türkçe'\n",
            " 'undefined' 'urban' 'uzbek' 'variété' 'vi' 'videogame' 'vocal' 'western'\n",
            " 'world' 'worldbeat' 'ïîï']\n"
          ]
        }
      ]
    },
    {
      "cell_type": "markdown",
      "source": [
        "### e. Conclusiones del Preprocesamiento de datos\n",
        "\n",
        "--> Se realizó un cambio en los encabezados para facilitar el procesamiento de la tabla  \n",
        "\n",
        "--> Existen valores ausentes en las columnas `track`, `artist` y `genre`, los cuales han sido reemplazados con 'undefined'\n",
        "\n",
        "--> Se eliminaron los datos duplicados para que los resultados sean más precisos\n",
        "\n",
        "\n",
        "\n",
        "*   Se debe tener un enfoque en la columna `genre` con el fin de determinar si sus datos ausentes afectan a nuestra investigación\n",
        "\n"
      ],
      "metadata": {
        "id": "0mN-nxfuzjNp"
      }
    },
    {
      "cell_type": "markdown",
      "source": [
        "\n",
        "\n",
        "---\n",
        "\n"
      ],
      "metadata": {
        "id": "V5RBwgk00zo7"
      }
    },
    {
      "cell_type": "markdown",
      "source": [
        "# 4. Prueba de Hipótesis"
      ],
      "metadata": {
        "id": "1EArS5l_0v3z"
      }
    },
    {
      "cell_type": "markdown",
      "source": [
        "### a. Hipótesis 1 : La actividad de los usuarios difiere según el día de la semana y dependiendo de la ciudad"
      ],
      "metadata": {
        "id": "icslZzj-0-fb"
      }
    },
    {
      "cell_type": "markdown",
      "source": [
        "Se evaluará la actividad del usuario en cada ciudad agrupando los datos por ciudad y encontrando el número de canciones reproducidas en cada grupo."
      ],
      "metadata": {
        "id": "tIyIFUj2H_WH"
      }
    },
    {
      "cell_type": "code",
      "source": [
        "# Dividir a los usuarios en grupos por ciudad\n",
        "canciones_por_ciudad = data.groupby('city')['track'].count()\n",
        "print(canciones_por_ciudad)"
      ],
      "metadata": {
        "colab": {
          "base_uri": "https://localhost:8080/"
        },
        "id": "OCaoCcfo1XPh",
        "outputId": "a70ab688-2316-41b0-a5cf-29554cbb6a59"
      },
      "execution_count": 27,
      "outputs": [
        {
          "output_type": "stream",
          "name": "stdout",
          "text": [
            "city\n",
            "Shelbyville    18512\n",
            "Springfield    42741\n",
            "Name: track, dtype: int64\n"
          ]
        }
      ]
    },
    {
      "cell_type": "code",
      "source": [
        "# Pistas reproducidas por cada día\n",
        "pistas_por_dia = data.groupby('day')['track'].count()\n",
        "print(pistas_por_dia)"
      ],
      "metadata": {
        "colab": {
          "base_uri": "https://localhost:8080/"
        },
        "id": "iX5uCzci2A_E",
        "outputId": "8430a78c-67cf-4cf4-b933-bae2df01c8e1"
      },
      "execution_count": 28,
      "outputs": [
        {
          "output_type": "stream",
          "name": "stdout",
          "text": [
            "day\n",
            "Friday       21840\n",
            "Monday       21354\n",
            "Wednesday    18059\n",
            "Name: track, dtype: int64\n"
          ]
        }
      ]
    },
    {
      "cell_type": "markdown",
      "source": [
        "Se observa que el miércoles fue el día que menos pistas resproducen, sin embargo, si consideramos cada ciudad por separado los resultados pueden ser distintos.\n",
        "A continuación, creamos una función con día y ciudad como parámetros para calcular el número de canciones reproducidas en determinado día y ciudad."
      ],
      "metadata": {
        "id": "wSNbdErmTN4o"
      }
    },
    {
      "cell_type": "markdown",
      "source": [
        "La función `numero_de_tracks` primero recupera las filas del día deseado, después filtra las filas de la ciudad deseada, encuentra el número de valores de 'user_id' en la tabla filtrada y devuelve ese número."
      ],
      "metadata": {
        "id": "jyaHCITWV0_m"
      }
    },
    {
      "cell_type": "code",
      "source": [
        "# Agrupación de datos por ciudad y día\n",
        "def numero_de_tracks(day, city):\n",
        "    track_list = data[(data['day'] == day) & (data['city'] == city)]\n",
        "    conteo_track_list = track_list['user_id'].count()\n",
        "    return conteo_track_list"
      ],
      "metadata": {
        "id": "bj8ebqd82O-C"
      },
      "execution_count": 29,
      "outputs": []
    },
    {
      "cell_type": "code",
      "source": [
        "# Lunes - Springfield\n",
        "numero_de_tracks('Monday', 'Springfield')"
      ],
      "metadata": {
        "colab": {
          "base_uri": "https://localhost:8080/"
        },
        "id": "NbHKhfEU28-0",
        "outputId": "555de19e-a40e-4a56-ba25-edf7dcc0ebda"
      },
      "execution_count": 30,
      "outputs": [
        {
          "output_type": "execute_result",
          "data": {
            "text/plain": [
              "15740"
            ]
          },
          "metadata": {},
          "execution_count": 30
        }
      ]
    },
    {
      "cell_type": "code",
      "source": [
        "# Lunes - Shelbyville\n",
        "numero_de_tracks('Monday', 'Shelbyville')"
      ],
      "metadata": {
        "colab": {
          "base_uri": "https://localhost:8080/"
        },
        "id": "szEoScLP2jWx",
        "outputId": "aa0384af-8729-4dfc-fcd7-96bbf847bbd9"
      },
      "execution_count": 31,
      "outputs": [
        {
          "output_type": "execute_result",
          "data": {
            "text/plain": [
              "5614"
            ]
          },
          "metadata": {},
          "execution_count": 31
        }
      ]
    },
    {
      "cell_type": "code",
      "source": [
        "# Miercoles - Springfield\n",
        "numero_de_tracks('Wednesday', 'Springfield')"
      ],
      "metadata": {
        "colab": {
          "base_uri": "https://localhost:8080/"
        },
        "id": "O5dRKFcQ3ACZ",
        "outputId": "b7d3ee4d-c749-4976-f709-568b9f978221"
      },
      "execution_count": 32,
      "outputs": [
        {
          "output_type": "execute_result",
          "data": {
            "text/plain": [
              "11056"
            ]
          },
          "metadata": {},
          "execution_count": 32
        }
      ]
    },
    {
      "cell_type": "code",
      "source": [
        "# Miércoles - Shelbyville\n",
        "numero_de_tracks('Wednesday', 'Shelbyville')"
      ],
      "metadata": {
        "colab": {
          "base_uri": "https://localhost:8080/"
        },
        "id": "XHs8JyRW2kdz",
        "outputId": "5cd1a86d-2348-4c91-ba8d-34e6dd705801"
      },
      "execution_count": 33,
      "outputs": [
        {
          "output_type": "execute_result",
          "data": {
            "text/plain": [
              "7003"
            ]
          },
          "metadata": {},
          "execution_count": 33
        }
      ]
    },
    {
      "cell_type": "code",
      "source": [
        "# Viernes - Springfield\n",
        "numero_de_tracks('Friday', 'Springfield')"
      ],
      "metadata": {
        "colab": {
          "base_uri": "https://localhost:8080/"
        },
        "id": "YLzExdup3ATF",
        "outputId": "a3d06e87-6e70-4f61-b922-ab93d9f62003"
      },
      "execution_count": 34,
      "outputs": [
        {
          "output_type": "execute_result",
          "data": {
            "text/plain": [
              "15945"
            ]
          },
          "metadata": {},
          "execution_count": 34
        }
      ]
    },
    {
      "cell_type": "code",
      "source": [
        "# Viernes - Shelbyville\n",
        "numero_de_tracks('Friday', 'Shelbyville')"
      ],
      "metadata": {
        "colab": {
          "base_uri": "https://localhost:8080/"
        },
        "id": "__Z6Epei2m88",
        "outputId": "6848e063-9785-4102-ca11-3f0f354cdfaf"
      },
      "execution_count": 35,
      "outputs": [
        {
          "output_type": "execute_result",
          "data": {
            "text/plain": [
              "5895"
            ]
          },
          "metadata": {},
          "execution_count": 35
        }
      ]
    },
    {
      "cell_type": "code",
      "source": [
        "# Crear una tabla para visualizar agrupación\n",
        "data = {\n",
        "    'city': ['Springfield', 'Shelbyville'],\n",
        "    'monday': [15740, 5614],\n",
        "    'wednesday': [11056, 7003],\n",
        "    'friday': [15945, 5895]\n",
        "}"
      ],
      "metadata": {
        "id": "6-I8KINP3nzw"
      },
      "execution_count": 36,
      "outputs": []
    },
    {
      "cell_type": "code",
      "source": [
        "tabla_de_ciudades = pd.DataFrame(data)\n",
        "tabla_de_ciudades.style.format({'monday': '{:,}', 'wednesday': '{:,}', 'friday': '{:,}'})"
      ],
      "metadata": {
        "colab": {
          "base_uri": "https://localhost:8080/",
          "height": 112
        },
        "id": "5gRwy_Op4wNu",
        "outputId": "e28666cc-e116-4c96-f50b-d53ee1173f61"
      },
      "execution_count": 37,
      "outputs": [
        {
          "output_type": "execute_result",
          "data": {
            "text/plain": [
              "<pandas.io.formats.style.Styler at 0x7ba81a32f2b0>"
            ],
            "text/html": [
              "<style type=\"text/css\">\n",
              "</style>\n",
              "<table id=\"T_5214f\" class=\"dataframe\">\n",
              "  <thead>\n",
              "    <tr>\n",
              "      <th class=\"blank level0\" >&nbsp;</th>\n",
              "      <th id=\"T_5214f_level0_col0\" class=\"col_heading level0 col0\" >city</th>\n",
              "      <th id=\"T_5214f_level0_col1\" class=\"col_heading level0 col1\" >monday</th>\n",
              "      <th id=\"T_5214f_level0_col2\" class=\"col_heading level0 col2\" >wednesday</th>\n",
              "      <th id=\"T_5214f_level0_col3\" class=\"col_heading level0 col3\" >friday</th>\n",
              "    </tr>\n",
              "  </thead>\n",
              "  <tbody>\n",
              "    <tr>\n",
              "      <th id=\"T_5214f_level0_row0\" class=\"row_heading level0 row0\" >0</th>\n",
              "      <td id=\"T_5214f_row0_col0\" class=\"data row0 col0\" >Springfield</td>\n",
              "      <td id=\"T_5214f_row0_col1\" class=\"data row0 col1\" >15,740</td>\n",
              "      <td id=\"T_5214f_row0_col2\" class=\"data row0 col2\" >11,056</td>\n",
              "      <td id=\"T_5214f_row0_col3\" class=\"data row0 col3\" >15,945</td>\n",
              "    </tr>\n",
              "    <tr>\n",
              "      <th id=\"T_5214f_level0_row1\" class=\"row_heading level0 row1\" >1</th>\n",
              "      <td id=\"T_5214f_row1_col0\" class=\"data row1 col0\" >Shelbyville</td>\n",
              "      <td id=\"T_5214f_row1_col1\" class=\"data row1 col1\" >5,614</td>\n",
              "      <td id=\"T_5214f_row1_col2\" class=\"data row1 col2\" >7,003</td>\n",
              "      <td id=\"T_5214f_row1_col3\" class=\"data row1 col3\" >5,895</td>\n",
              "    </tr>\n",
              "  </tbody>\n",
              "</table>\n"
            ]
          },
          "metadata": {},
          "execution_count": 37
        }
      ]
    },
    {
      "cell_type": "markdown",
      "source": [
        "**Conclusiones de hipótesis 1:**\n",
        "\n",
        "Sí se comprueba la hipótesis número 1, ya que:\n",
        "\n",
        "\n",
        "\n",
        "*   En Springfield, los días lunes y viernes tienen mayor actividad por parte de los usuarios  \n",
        "*   En Shelbyville, el día con mayor actividad de los usuarios es miércoles\n",
        "\n",
        "En general, Springfield supera a Shelbyville, ya que demuestra valores de actividad más elevados en todos los días\n",
        "\n"
      ],
      "metadata": {
        "id": "XTaIQueW3-P2"
      }
    },
    {
      "cell_type": "markdown",
      "source": [
        "### b. Hipótesis 2: Los lunes por la mañana, los habitantes de Springfield y Shelbyville escuchan diferentes géneros. Lo mismo ocurre con los viernes por la noche"
      ],
      "metadata": {
        "id": "BBxh-KPb1FZ4"
      }
    },
    {
      "cell_type": "markdown",
      "source": [
        "Obtenemos una tabla que contenga unicamente los valores de una ciudad y le asignamos una variable para Springfield y Shelbyville."
      ],
      "metadata": {
        "id": "h0suu4Gk-x5N"
      }
    },
    {
      "cell_type": "code",
      "source": [
        "filtro_springfield = data['city'] == 'Springfield'\n",
        "filtro_spr = data.loc[filtro_springfield].reset_index(drop=True)\n",
        "print(filtro_spr)"
      ],
      "metadata": {
        "colab": {
          "base_uri": "https://localhost:8080/",
          "height": 217
        },
        "id": "Uret3sRtdSzH",
        "outputId": "86a48c0b-09bf-401d-a8cf-721f249e67df"
      },
      "execution_count": 38,
      "outputs": [
        {
          "output_type": "error",
          "ename": "AttributeError",
          "evalue": "ignored",
          "traceback": [
            "\u001b[0;31m---------------------------------------------------------------------------\u001b[0m",
            "\u001b[0;31mAttributeError\u001b[0m                            Traceback (most recent call last)",
            "\u001b[0;32m<ipython-input-38-e6b7f7970bab>\u001b[0m in \u001b[0;36m<cell line: 2>\u001b[0;34m()\u001b[0m\n\u001b[1;32m      1\u001b[0m \u001b[0mfiltro_springfield\u001b[0m \u001b[0;34m=\u001b[0m \u001b[0mdata\u001b[0m\u001b[0;34m[\u001b[0m\u001b[0;34m'city'\u001b[0m\u001b[0;34m]\u001b[0m \u001b[0;34m==\u001b[0m \u001b[0;34m'Springfield'\u001b[0m\u001b[0;34m\u001b[0m\u001b[0;34m\u001b[0m\u001b[0m\n\u001b[0;32m----> 2\u001b[0;31m \u001b[0mfiltro_spr\u001b[0m \u001b[0;34m=\u001b[0m \u001b[0mdata\u001b[0m\u001b[0;34m.\u001b[0m\u001b[0mloc\u001b[0m\u001b[0;34m[\u001b[0m\u001b[0mfiltro_springfield\u001b[0m\u001b[0;34m]\u001b[0m\u001b[0;34m.\u001b[0m\u001b[0mreset_index\u001b[0m\u001b[0;34m(\u001b[0m\u001b[0mdrop\u001b[0m\u001b[0;34m=\u001b[0m\u001b[0;32mTrue\u001b[0m\u001b[0;34m)\u001b[0m\u001b[0;34m\u001b[0m\u001b[0;34m\u001b[0m\u001b[0m\n\u001b[0m\u001b[1;32m      3\u001b[0m \u001b[0mprint\u001b[0m\u001b[0;34m(\u001b[0m\u001b[0mfiltro_spr\u001b[0m\u001b[0;34m)\u001b[0m\u001b[0;34m\u001b[0m\u001b[0;34m\u001b[0m\u001b[0m\n",
            "\u001b[0;31mAttributeError\u001b[0m: 'dict' object has no attribute 'loc'"
          ]
        }
      ]
    },
    {
      "cell_type": "code",
      "source": [
        "filtro_shelbyville = data['city'] == 'Shelbyville'\n",
        "filtro_shel = data.loc[filtro_shelbyville].reset_index(drop=True)\n",
        "print(filtro_shel)"
      ],
      "metadata": {
        "id": "APiJ2oQsbMnJ"
      },
      "execution_count": null,
      "outputs": []
    },
    {
      "cell_type": "markdown",
      "source": [
        "Creamos una función que devuelva información de los 15 géneros más populares de un día determinado en un período entre dos marcas de fecha y hora"
      ],
      "metadata": {
        "id": "UGqMaRk3boHS"
      }
    },
    {
      "cell_type": "code",
      "source": [
        "# Crear una funcion para devolver información sobre los géneros más populares de un determinado día y hora\n",
        "def genre_weekday(data, day, time1, time2):\n",
        "    genre_data = data[data['day'] == day]\n",
        "    genre_data = genre_data[genre_data['time'] < time2]\n",
        "    genre_data = genre_data[genre_data['time'] < time1]\n",
        "\n",
        "    # agrupar el DataFrame filtrado por la columna con los nombres de los géneros, toma la columna de género, y encuentra el número de filas por cada género con el método count()\n",
        "    genre_data_grouped = genre_data.groupby('genre')['genre'].count()\n",
        "\n",
        "    # ordenaremos el resultado en orden descendente (por lo que los géneros más populares aparecerán primero en el objeto Series)\n",
        "    genre_data_sorted = genre_data_grouped.sort_values(ascending = False)\n",
        "\n",
        "    # devolver el objeto Series que almacena los 15 géneros más populares en un día determinado en un periodo de tiempo determinado\n",
        "    return genre_data_sorted[:15]\n"
      ],
      "metadata": {
        "id": "OVf7FI3pYFxR"
      },
      "execution_count": null,
      "outputs": []
    },
    {
      "cell_type": "markdown",
      "source": [
        "Usamos la función `genre_weekday()` para Springfield y Shelbyville el lunes por la mañana (de 7 a 11) y el viernes por la tarde (de 17:00 a 23:00)"
      ],
      "metadata": {
        "id": "1yp9JIyGb1o1"
      }
    },
    {
      "cell_type": "code",
      "source": [
        "# llamando a la función para el lunes por la mañana en Springfield (utilizando spr_general en vez de la tabla df)\n",
        "\n",
        "genre_weekday(filtro_spr, 'Monday', '7:00', '11:00')"
      ],
      "metadata": {
        "id": "NoomZHvJaXOc"
      },
      "execution_count": null,
      "outputs": []
    },
    {
      "cell_type": "code",
      "source": [
        "# llamando a la función para el lunes por la mañana en Springfield (utilizando spr_general en vez de la tabla df)\n",
        "\n",
        "genre_weekday(filtro_shel, 'Monday', '7:00', '11:00')"
      ],
      "metadata": {
        "id": "0Ql6wYKJih3P"
      },
      "execution_count": null,
      "outputs": []
    },
    {
      "cell_type": "code",
      "source": [
        "# Viernes por la tarde - Springfield\n",
        "genre_weekday(filtro_spr, 'Friday', '17:00', '23:00')"
      ],
      "metadata": {
        "id": "EULeK1sYiqVP"
      },
      "execution_count": null,
      "outputs": []
    },
    {
      "cell_type": "code",
      "source": [
        "# Viernes por la tarde - Shelbyville\n",
        "genre_weekday(filtro_shel, 'Friday', '17:00', '23:00')"
      ],
      "metadata": {
        "id": "tCmTMEJjizge"
      },
      "execution_count": null,
      "outputs": []
    },
    {
      "cell_type": "markdown",
      "source": [
        "**Conclusión: Hipótesis 2**\n",
        "\n",
        "Habiendo comparado los 15 géneros más populares del lunes por la mañana podemos concluir lo siguiente:\n",
        "\n",
        "1. Los usuarios de Springfield y Shelbyville escuchan música similar. Los **cinco géneros más populares son los mismos**, solo rock y electrónica han intercambiado posiciones.\n",
        "\n",
        "2. En Springfield el número de valores ausentes resultaron ser tan altos que el valor `'unknown'` llegó al décimo. Esto significa que los valores ausentes forman una parte considerable de los datos, lo que podría ser la base de la cuestión sobre la fiabilidad de las conclusiones.\n",
        "\n",
        "Para el viernes por la tarde, la situación es similar. Los géneros individuales varían algo pero, en general, los 15 más populares son parecidos en las dos ciudades.\n",
        "\n",
        "De esta forma, la segunda hipótesis ha sido parcialmente demostrada:\n",
        "* Los usuarios escuchan música similar al principio y al final de la semana.\n",
        "* No hay una gran diferencia entre Springfield y Shelbyville. En ambas ciudades, el pop es el género más popular.\n",
        "\n",
        "Sin embargo, el número de valores ausentes hace este resultado un tanto cuestionable. En Springfield, hay tantos que afectan a nuestros 15 más populares. De no faltarnos esos valores, las cosas podrían parecer diferentes."
      ],
      "metadata": {
        "id": "Hn0P1ju6jE6o"
      }
    },
    {
      "cell_type": "markdown",
      "source": [
        "### c. Hipótesis 3: Los oyentes de Springfield y Shelbyville tienen distintas preferencias. En Springfield prefieren el pop mientras que en Shelbyville hay más aficionados al rap"
      ],
      "metadata": {
        "id": "OTSNafig1N6I"
      }
    },
    {
      "cell_type": "code",
      "source": [
        "filtro_spr = filtro_spr.groupby('genre')['genre'].count().sort_values(ascending = False)\n",
        "# imprimiendo las 10 primeras filas de spr_genres\n",
        "print(filtro_spr.head(10))"
      ],
      "metadata": {
        "id": "_VrPcUQpPdPO"
      },
      "execution_count": null,
      "outputs": []
    },
    {
      "cell_type": "code",
      "source": [
        "filtro_shel = filtro_shel.groupby('genre')['genre'].count().sort_values(ascending = False)\n",
        "# imprimiendo las 10 primeras filas de shel_genres\n",
        "print(shelbyville_genres.head(10))"
      ],
      "metadata": {
        "id": "R3N_I3sJPlOM"
      },
      "execution_count": null,
      "outputs": []
    },
    {
      "cell_type": "markdown",
      "source": [
        "**Conclusión: Hipótesis 3**\n",
        "La hipótesis ha sido parcialmente demostrada:\n",
        "* La música pop es el género más popular en Springfield, tal como se esperaba.\n",
        "* Sin embargo, en Shelbyville el rap no estaba entre uno de los géneros favoritos, al contrario la música pop resultó ser igual de popular que en Springfield.\n",
        "\n",
        "Por lo tanto, rechazamos la hipótesis"
      ],
      "metadata": {
        "id": "xGq6_5cIReiG"
      }
    },
    {
      "cell_type": "markdown",
      "source": [
        "# 5. Conclusiones"
      ],
      "metadata": {
        "id": "UNYs8A_cULqU"
      }
    },
    {
      "cell_type": "markdown",
      "source": [
        "En este proyecto buscamos responder a las siguientes hipótesis:\n",
        "\n",
        "1. La actividad de los usuarios varía según el día de la semana y las diferentes ciudades.\n",
        "2. Los lunes por la mañana, los residentes de Springfield y Shelbyville escuchan géneros musicales diferentes. Lo mismo ocurre los viernes por la noche.\n",
        "3. Los oyentes de Springfield y Shelbyville tienen preferencias musicales distintas, siendo el pop el género preferido en ambas ciudades.\n",
        "\n",
        "Después de analizar los datos, podemos concluir lo siguiente:\n",
        "\n",
        "1. La actividad de los usuarios en Springfield y Shelbyville varía según el día de la semana, aunque las ciudades presentan diferencias en la forma en que esto sucede, por lo tanto, aceptamos la primera hipótesis.\n",
        "\n",
        "2. Las preferencias musicales no varían significativamente a lo largo de la semana en Springfield y Shelbyville, sin embargo, podemos observar pequeñas diferencias los lunes, pero en general, la música pop es lo más escuchado en ambas ciudades.\n",
        "Por lo tanto, rechazamos esta hipótesis. Además, es importante tener en cuenta que los resultados podrían haber sido diferentes si no hubiera habido valores ausentes en los datos.\n",
        "\n",
        "3. Se observó que las preferencias musicales de los usuarios de Springfield y Shelbyville son bastante similares.\n",
        "\n",
        "Por lo tanto, la tercera hipótesis es rechazada, ya que si hay alguna diferencia en las preferencias, no se puede observar en los datos analizados."
      ],
      "metadata": {
        "id": "HvPTDc03TY36"
      }
    },
    {
      "cell_type": "markdown",
      "source": [
        "# 6. Bibliografía"
      ],
      "metadata": {
        "id": "F_2kXaAAUXNF"
      }
    },
    {
      "cell_type": "markdown",
      "source": [
        "* Pandas.DataFrame.fillna — Pandas 2.1.3 documentation. (s. f.). https://pandas.pydata.org/docs/reference/api/pandas.DataFrame.fillna.html\n",
        "\n",
        "* Pandas DataFrame Duplicated() method. (s. f.). https://www.w3schools.com/python/pandas/ref_df_duplicated.asp"
      ],
      "metadata": {
        "id": "I753VhVeVvbQ"
      }
    }
  ]
}